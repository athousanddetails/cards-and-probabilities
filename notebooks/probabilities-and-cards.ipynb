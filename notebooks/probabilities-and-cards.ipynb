{
 "cells": [
  {
   "attachments": {},
   "cell_type": "markdown",
   "metadata": {},
   "source": [
    "## Probability with Cards\n",
    "\n",
    "We have a regular Deck of Cards with 52 Cards. \n",
    "Each Time we extract 5 cards from the deck. \n",
    "\n",
    "We want to know the probability of drawing these hands:\n",
    "\n",
    "* A - 4 Aces\n",
    "* B - 4 Aces and a King\n",
    "* C - Three 5 and 2 Jacks\n",
    "* D - One 9, 10, Jacks, Queen and a King in any order\n",
    "* E - Three of any suit and Two from another one\n",
    "* F - At least one Ace"
   ]
  },
  {
   "cell_type": "code",
   "execution_count": 3,
   "metadata": {},
   "outputs": [
    {
     "name": "stdout",
     "output_type": "stream",
     "text": [
      "2598960\n"
     ]
    }
   ],
   "source": [
    "# Import Libraries \n",
    "from math import comb\n",
    "\n",
    "# Define the Possible Combinations with all Cards\n",
    "allcombinations = comb(52,5)\n",
    "print(allcombinations)"
   ]
  },
  {
   "cell_type": "code",
   "execution_count": null,
   "metadata": {},
   "outputs": [],
   "source": [
    "# Probability of 4 Aces "
   ]
  }
 ],
 "metadata": {
  "kernelspec": {
   "display_name": "Python 3 (ipykernel)",
   "language": "python",
   "name": "python3"
  },
  "language_info": {
   "codemirror_mode": {
    "name": "ipython",
    "version": 3
   },
   "file_extension": ".py",
   "mimetype": "text/x-python",
   "name": "python",
   "nbconvert_exporter": "python",
   "pygments_lexer": "ipython3",
   "version": "3.10.4"
  },
  "orig_nbformat": 4
 },
 "nbformat": 4,
 "nbformat_minor": 2
}
