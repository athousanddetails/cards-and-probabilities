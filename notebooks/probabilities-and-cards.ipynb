{
 "cells": [
  {
   "attachments": {},
   "cell_type": "markdown",
   "metadata": {},
   "source": [
    "## Probability with Cards\n",
    "\n",
    "We have a regular Deck of Cards with 52 Cards. \n",
    "Each Time we extract 5 cards from the deck. \n",
    "\n",
    "We want to know the probability of drawing these hands:\n",
    "\n",
    "* A - 4 Aces\n",
    "* B - 4 Aces and a King\n",
    "* C - Three 5 and 2 Jacks\n",
    "* D - One 9, 10, Jacks, Queen and a King in any order\n",
    "* E - Three of any suit and Two from another one\n",
    "* F - At least one Ace"
   ]
  },
  {
   "cell_type": "code",
   "execution_count": 3,
   "metadata": {},
   "outputs": [
    {
     "name": "stdout",
     "output_type": "stream",
     "text": [
      "2598960\n"
     ]
    }
   ],
   "source": [
    "# Import Libraries \n",
    "from math import comb\n",
    "\n",
    "# Define the Possible Combinations with all Cards\n",
    "allcombinations = comb(52,5)\n",
    "print(allcombinations)"
   ]
  },
  {
   "cell_type": "code",
   "execution_count": 13,
   "metadata": {},
   "outputs": [
    {
     "name": "stdout",
     "output_type": "stream",
     "text": [
      "The Probability of drawing 4 Aces is:\" 0.00184689 %\n"
     ]
    }
   ],
   "source": [
    "# Probability of 4 Aces \n",
    "\n",
    "# Combinations of 4 Aces - Exclude the 4 Aces from Deck\n",
    "\n",
    "draw4aces = comb(48,1)\n",
    "\n",
    "# Probability of 4 Aces + 1 Random Card\n",
    "\n",
    "print(f'The Probability of drawing 4 Aces is:\"', round((draw4aces / allcombinations)*100, 8), f'%')"
   ]
  },
  {
   "cell_type": "code",
   "execution_count": 15,
   "metadata": {},
   "outputs": [
    {
     "name": "stdout",
     "output_type": "stream",
     "text": [
      "The Probability of drawing 4 Aces is:\" 0.00015391 %\n"
     ]
    }
   ],
   "source": [
    "# Probability of 4 Aces and a King\n",
    "\n",
    "# Combination of 4 Aces and Combinations of 1 King out of the Deck\n",
    "\n",
    "draw4ace1k = comb(4,4) * comb(4, 1)\n",
    "\n",
    "# Probability of 4 Aces + 1 Random Card\n",
    "\n",
    "print(f'The Probability of drawing 4 Aces is:\"', round((draw4ace1k / allcombinations)*100, 8), f'%')"
   ]
  },
  {
   "cell_type": "code",
   "execution_count": 16,
   "metadata": {},
   "outputs": [
    {
     "name": "stdout",
     "output_type": "stream",
     "text": [
      "The Probability of drawing 4 Aces is:\" 0.00092345 %\n"
     ]
    }
   ],
   "source": [
    "# Probability of Three 5 and 2 Jacks\n",
    "\n",
    "# Combination of Three 5 and 2 Jacks out of the Deck (Knowing there is 4 cards of each)\n",
    "\n",
    "draw352j = comb(4,3) * comb(4, 2)\n",
    "\n",
    "# Probability of 4 Aces + 1 Random Card\n",
    "\n",
    "print(f'The Probability of drawing 4 Aces is:\"', round((draw352j / allcombinations)*100, 8), f'%')"
   ]
  },
  {
   "cell_type": "code",
   "execution_count": 17,
   "metadata": {},
   "outputs": [
    {
     "name": "stdout",
     "output_type": "stream",
     "text": [
      "The Probability of drawing 4 Aces is:\" 0.03940038 %\n"
     ]
    }
   ],
   "source": [
    "# Probability of  One 9, 10, Jacks, Queen and a King in any order\n",
    "\n",
    "# Combination of getting one of each 9, 10, Jack, Queen, King in any order\n",
    "# Since there are 4 times each card and there are 5 cards to draw, we need \n",
    "# to elevate to 5 to get all the possible combinations\n",
    "\n",
    "draw910jqk = comb(4,1) ** 5\n",
    "\n",
    "# Probability of 4 Aces + 1 Random Card\n",
    "\n",
    "print(f'The Probability of drawing 4 Aces is:\"', round((draw910jqk / allcombinations)*100, 8), f'%')"
   ]
  },
  {
   "cell_type": "code",
   "execution_count": 20,
   "metadata": {},
   "outputs": [
    {
     "name": "stdout",
     "output_type": "stream",
     "text": [
      "The Probability of drawing 4 Aces is:\" 6.8667467 %\n"
     ]
    }
   ],
   "source": [
    "# Probability of Three of any suit and Two from another one\n",
    "\n",
    "# Combination of Three of any suit\n",
    "# We need to multiply by the number of suits (4)  to the combination\n",
    "# of getting 3 cards out of 13 possible\n",
    "\n",
    "draw3suit = 4 * comb(13,3)\n",
    "\n",
    "# Combination of Two from another suit\n",
    "# We need to multiply by the number of the other possible suits (2)  \n",
    "# to the combination of getting 2 cards out of 13 possible\n",
    "\n",
    "draw2suit = 2 * comb(13,2)\n",
    "\n",
    "# Combining the two combinations\n",
    "\n",
    "draw32suit = draw3suit * draw2suit\n",
    "\n",
    "# Probability of 4 Aces + 1 Random Card\n",
    "\n",
    "print(f'The Probability of drawing 4 Aces is:\"', round((draw32suit / allcombinations)*100, 8), f'%')"
   ]
  },
  {
   "cell_type": "code",
   "execution_count": 26,
   "metadata": {},
   "outputs": [
    {
     "name": "stdout",
     "output_type": "stream",
     "text": [
      "The Probability of drawing 4 Aces is:\" 34.11580017 %\n"
     ]
    }
   ],
   "source": [
    "# Probability of at least one Ace\n",
    "\n",
    "# Combination to get at least one Ace\n",
    "# We need to substrack the combination of getting at leat\n",
    "# one Ace to the total number of combinations from the deck\n",
    "\n",
    "draw1ace = allcombinations - comb(48, 5)\n",
    "\n",
    "\n",
    "# Probability of 4 Aces + 1 Random Card\n",
    "\n",
    "print(f'The Probability of drawing 4 Aces is:\"', round((draw1ace / allcombinations)*100, 8), f'%')"
   ]
  }
 ],
 "metadata": {
  "kernelspec": {
   "display_name": "Python 3 (ipykernel)",
   "language": "python",
   "name": "python3"
  },
  "language_info": {
   "codemirror_mode": {
    "name": "ipython",
    "version": 3
   },
   "file_extension": ".py",
   "mimetype": "text/x-python",
   "name": "python",
   "nbconvert_exporter": "python",
   "pygments_lexer": "ipython3",
   "version": "3.10.4"
  },
  "orig_nbformat": 4
 },
 "nbformat": 4,
 "nbformat_minor": 2
}
